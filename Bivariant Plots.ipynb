{
 "cells": [
  {
   "cell_type": "code",
   "execution_count": 1,
   "id": "350cdbdf",
   "metadata": {},
   "outputs": [],
   "source": [
    "# !pip install pandas\n",
    "import pandas as pd\n",
    "# !pip install numpy\n",
    "import numpy as np\n",
    "# !pip install seaborn\n",
    "import seaborn as sns\n",
    "# !pip install matplotlib\n",
    "import matplotlib.pyplot as plt\n",
    "import warnings\n",
    "warnings.filterwarnings(\"ignore\")\n",
    "# !pip install ipywidgets\n",
    "import ipywidgets as widgets"
   ]
  },
  {
   "cell_type": "code",
   "execution_count": 2,
   "id": "9c74f56b",
   "metadata": {},
   "outputs": [],
   "source": [
    "df = pd.read_csv('Cleaned_df.csv')"
   ]
  },
  {
   "cell_type": "code",
   "execution_count": 3,
   "id": "a8221799",
   "metadata": {},
   "outputs": [],
   "source": [
    "pf = df[(df['Avg_Wind_Speed'] > 3) & (df['Avg_Active_Power'] > 10)]"
   ]
  },
  {
   "cell_type": "code",
   "execution_count": 4,
   "id": "ea41cd4b",
   "metadata": {},
   "outputs": [
    {
     "data": {
      "application/vnd.jupyter.widget-view+json": {
       "model_id": "532e63dc0f5e4417b1e014b5812b71c1",
       "version_major": 2,
       "version_minor": 0
      },
      "text/plain": [
       "interactive(children=(Dropdown(description='Feature1', options=('Unnamed: 0', 'Date', 'Avg_Active_Power', 'Avg…"
      ]
     },
     "metadata": {},
     "output_type": "display_data"
    }
   ],
   "source": [
    "import ipywidgets as widgets\n",
    "\n",
    "@widgets.interact(Feature1=pf.columns, Feature2=pf.columns)\n",
    "def create_scatter(Feature1, Feature2):\n",
    "    with plt.style.context(\"ggplot\"):\n",
    "        fig = plt.figure(figsize=(8,4))\n",
    "\n",
    "        plt.scatter(x = pf[Feature1],\n",
    "                    y = pf[Feature2], s = 8, color = 'green')\n",
    "\n",
    "        plt.xlabel(Feature1.capitalize())\n",
    "        plt.ylabel(Feature2.capitalize())\n",
    "\n",
    "        plt.title(\"%s vs %s\"%(Feature1.capitalize(), Feature2.capitalize()))"
   ]
  },
  {
   "cell_type": "code",
   "execution_count": null,
   "id": "6a8b75ac",
   "metadata": {},
   "outputs": [],
   "source": []
  }
 ],
 "metadata": {
  "kernelspec": {
   "display_name": "Python 3",
   "language": "python",
   "name": "python3"
  },
  "language_info": {
   "codemirror_mode": {
    "name": "ipython",
    "version": 3
   },
   "file_extension": ".py",
   "mimetype": "text/x-python",
   "name": "python",
   "nbconvert_exporter": "python",
   "pygments_lexer": "ipython3",
   "version": "3.9.5"
  }
 },
 "nbformat": 4,
 "nbformat_minor": 5
}
